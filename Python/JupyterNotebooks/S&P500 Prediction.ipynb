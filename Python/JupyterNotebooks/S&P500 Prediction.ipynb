{
 "cells": [
  {
   "cell_type": "code",
   "execution_count": 1,
   "metadata": {},
   "outputs": [],
   "source": [
    "# Based on \"Stock Market Forecasting Using Machine Learning Algorithms\"\n",
    "# by Shunrong Shen, Haomiao Jiang, Tongda Zhang\n",
    "# https://pdfs.semanticscholar.org/b68e/8d2f4d2c709bb5919b82effcb6a7bbd3db37.pdf\n",
    "# Data from yahoo.com, macrotrends.net, investing.com (2001-01-01 to 2020-01-24)\n",
    "\n",
    "# Get Data from SQL Server\n",
    "import pandas as pd\n",
    "import numpy as np\n",
    "import pyodbc \n",
    "import matplotlib.pyplot as plt\n",
    "import sklearn.decomposition\n",
    "import random\n",
    "from sklearn.model_selection import train_test_split\n",
    "\n",
    "NUM_DAYS = 30\n",
    "\n",
    "connection = pyodbc.connect(\"Driver={SQL Server Native Client 11.0};\"\n",
    "                      \"Server=DESKTOP-2JHG1EA\\\\SQLEXPRESS;\"\n",
    "                      \"Database=Sandbox;\"\n",
    "                      \"Trusted_Connection=yes;\")\n",
    "df = pd.read_sql(\n",
    "    'SELECT * FROM [Sandbox].[dbo].[PredictionDataSetSp500] ORDER BY [FeatureDate]', \n",
    "    connection)\n",
    "\n",
    "# Save some random periods of data for profit return % calculation\n",
    "def get_random_period(df):\n",
    "    row_count = df.shape[0]\n",
    "    random_index = random.randint(1, row_count - NUM_DAYS)\n",
    "    random_period = df[random_index: random_index + NUM_DAYS] \n",
    "    before_period = df[0:random_index - 1]\n",
    "    after_period = df[random_index + 1 + NUM_DAYS:row_count]\n",
    "    df = before_period.append(after_period, ignore_index=True)\n",
    "    return df, random_period\n",
    "\n",
    "df, random_period_1 = get_random_period(df)\n",
    "df, random_period_2 = get_random_period(df)\n",
    "df, random_period_3 = get_random_period(df)\n",
    "df, random_period_4 = get_random_period(df)\n",
    "df, random_period_5 = get_random_period(df)\n",
    "\n",
    "# Split data\n",
    "def get_x_and_y(df):\n",
    "    y = df[['Y_Index_GSPC']]\n",
    "    y = np.where(df['Y_Index_GSPC'] > 0, 1, 0)\n",
    "    X = df[['X_Index_SSMI', 'X_Index_N225', 'X_Index_AXJO', 'X_Index_HSI', 'X_Index_N100', 'X_Index_FTSE', 'X_Index_GDAXI']]\n",
    "    return X, y\n",
    "    \n",
    "X, y = get_x_and_y(df)\n",
    "X_train, X_test, y_train, y_test = train_test_split(X, y, test_size=0.2, random_state=42)"
   ]
  },
  {
   "cell_type": "code",
   "execution_count": 2,
   "metadata": {},
   "outputs": [
    {
     "data": {
      "application/vnd.jupyter.widget-view+json": {
       "model_id": "",
       "version_major": 2,
       "version_minor": 0
      },
      "text/plain": [
       "HBox(children=(IntProgress(value=0, description='Optimization Progress', max=10100, style=ProgressStyle(descri…"
      ]
     },
     "metadata": {},
     "output_type": "display_data"
    },
    {
     "name": "stdout",
     "output_type": "stream",
     "text": [
      "Generation 1 - Current best internal CV score: 0.7813377618659516\n",
      "Generation 2 - Current best internal CV score: 0.7830977042362225\n",
      "Generation 3 - Current best internal CV score: 0.7830977042362225\n",
      "Generation 4 - Current best internal CV score: 0.7830977042362225\n",
      "Generation 5 - Current best internal CV score: 0.7830977042362225\n",
      "Generation 6 - Current best internal CV score: 0.7841565197559983\n",
      "Generation 7 - Current best internal CV score: 0.7841565197559983\n",
      "Generation 8 - Current best internal CV score: 0.7841565197559983\n",
      "Generation 9 - Current best internal CV score: 0.7841565197559983\n",
      "Generation 10 - Current best internal CV score: 0.7859133723558998\n",
      "Generation 11 - Current best internal CV score: 0.7859133723558998\n",
      "Generation 12 - Current best internal CV score: 0.7859133723558998\n",
      "Generation 13 - Current best internal CV score: 0.7859133723558998\n",
      "Generation 14 - Current best internal CV score: 0.7859133723558998\n",
      "Generation 15 - Current best internal CV score: 0.7859133723558998\n",
      "Generation 16 - Current best internal CV score: 0.7866188353624098\n",
      "Generation 17 - Current best internal CV score: 0.7866188353624098\n",
      "Generation 18 - Current best internal CV score: 0.7866188353624098\n",
      "Generation 19 - Current best internal CV score: 0.7866188353624098\n",
      "Generation 20 - Current best internal CV score: 0.7866188353624098\n",
      "Generation 21 - Current best internal CV score: 0.7866188353624098\n",
      "Generation 22 - Current best internal CV score: 0.7866188353624098\n",
      "Generation 23 - Current best internal CV score: 0.7866194651036684\n",
      "Generation 24 - Current best internal CV score: 0.7866194651036684\n",
      "Generation 25 - Current best internal CV score: 0.7866194651036684\n",
      "Generation 26 - Current best internal CV score: 0.7869697103840687\n",
      "Generation 27 - Current best internal CV score: 0.7869697103840687\n",
      "Generation 28 - Current best internal CV score: 0.7869697103840687\n",
      "Generation 29 - Current best internal CV score: 0.7869697103840687\n",
      "Generation 30 - Current best internal CV score: 0.7869697103840687\n",
      "Generation 31 - Current best internal CV score: 0.7869715690484769\n",
      "Generation 32 - Current best internal CV score: 0.7869715690484769\n",
      "Generation 33 - Current best internal CV score: 0.7869715690484769\n",
      "Generation 34 - Current best internal CV score: 0.7869715690484769\n",
      "Generation 35 - Current best internal CV score: 0.7887290339271412\n",
      "Generation 36 - Current best internal CV score: 0.7887290339271412\n",
      "Generation 37 - Current best internal CV score: 0.7887290339271412\n",
      "Generation 38 - Current best internal CV score: 0.7887290339271412\n",
      "Generation 39 - Current best internal CV score: 0.7887290339271412\n",
      "Generation 40 - Current best internal CV score: 0.7887290339271412\n",
      "Generation 41 - Current best internal CV score: 0.7887290339271412\n",
      "Generation 42 - Current best internal CV score: 0.7887290339271412\n",
      "Generation 43 - Current best internal CV score: 0.7887290339271412\n",
      "Generation 44 - Current best internal CV score: 0.7890805277759988\n",
      "Generation 45 - Current best internal CV score: 0.7890805277759988\n",
      "Generation 46 - Current best internal CV score: 0.7890805277759988\n",
      "Generation 47 - Current best internal CV score: 0.7890805277759988\n",
      "Generation 48 - Current best internal CV score: 0.7890805277759988\n",
      "Generation 49 - Current best internal CV score: 0.7890805277759988\n",
      "Generation 50 - Current best internal CV score: 0.7890805277759988\n",
      "Generation 51 - Current best internal CV score: 0.7890805277759988\n",
      "Generation 52 - Current best internal CV score: 0.7890805277759988\n",
      "Generation 53 - Current best internal CV score: 0.7890805277759988\n",
      "Generation 54 - Current best internal CV score: 0.7890805277759988\n",
      "Generation 55 - Current best internal CV score: 0.7890805277759988\n",
      "Generation 56 - Current best internal CV score: 0.7890805277759988\n",
      "Generation 57 - Current best internal CV score: 0.7890805277759988\n",
      "Generation 58 - Current best internal CV score: 0.7890805277759988\n",
      "Generation 59 - Current best internal CV score: 0.7890805277759988\n",
      "Generation 60 - Current best internal CV score: 0.7890805277759988\n",
      "Generation 61 - Current best internal CV score: 0.7890811466031974\n",
      "Generation 62 - Current best internal CV score: 0.7890811466031974\n",
      "Generation 63 - Current best internal CV score: 0.7890811466031974\n",
      "Generation 64 - Current best internal CV score: 0.7890811466031974\n",
      "Generation 65 - Current best internal CV score: 0.7890811466031974\n",
      "Generation 66 - Current best internal CV score: 0.7890811466031974\n",
      "Generation 67 - Current best internal CV score: 0.7890811466031974\n",
      "Generation 68 - Current best internal CV score: 0.7890811466031974\n",
      "Generation 69 - Current best internal CV score: 0.7890811466031974\n",
      "Generation 70 - Current best internal CV score: 0.7890811466031974\n",
      "Generation 71 - Current best internal CV score: 0.7890811466031974\n",
      "Generation 72 - Current best internal CV score: 0.7890811466031974\n",
      "Generation 73 - Current best internal CV score: 0.7890811466031974\n",
      "Generation 74 - Current best internal CV score: 0.7890811466031974\n",
      "Generation 75 - Current best internal CV score: 0.7890811466031974\n",
      "Generation 76 - Current best internal CV score: 0.7890811466031974\n",
      "Generation 77 - Current best internal CV score: 0.7894375976180805\n",
      "Generation 78 - Current best internal CV score: 0.7894375976180805\n",
      "Generation 79 - Current best internal CV score: 0.7894375976180805\n",
      "Generation 80 - Current best internal CV score: 0.7894375976180805\n",
      "Generation 81 - Current best internal CV score: 0.7894375976180805\n",
      "Generation 82 - Current best internal CV score: 0.7894375976180805\n",
      "Generation 83 - Current best internal CV score: 0.7897903313041476\n",
      "Generation 84 - Current best internal CV score: 0.7897903313041476\n",
      "Generation 85 - Current best internal CV score: 0.7897903313041476\n",
      "Generation 86 - Current best internal CV score: 0.7897903313041476\n",
      "Generation 87 - Current best internal CV score: 0.7897903313041476\n",
      "Generation 88 - Current best internal CV score: 0.7897903313041476\n",
      "Generation 89 - Current best internal CV score: 0.7897903313041476\n",
      "Generation 90 - Current best internal CV score: 0.7897903313041476\n",
      "Generation 91 - Current best internal CV score: 0.7897903313041476\n",
      "Generation 92 - Current best internal CV score: 0.7897903313041476\n",
      "Generation 93 - Current best internal CV score: 0.7897903313041476\n",
      "Generation 94 - Current best internal CV score: 0.7897903313041476\n",
      "Generation 95 - Current best internal CV score: 0.7897903313041476\n",
      "Generation 96 - Current best internal CV score: 0.7897903313041476\n",
      "Generation 97 - Current best internal CV score: 0.7897903313041476\n",
      "Generation 98 - Current best internal CV score: 0.7897903313041476\n",
      "Generation 99 - Current best internal CV score: 0.7897903313041476\n",
      "Generation 100 - Current best internal CV score: 0.7897903313041476\n",
      "\n",
      "Best pipeline: KNeighborsClassifier(MaxAbsScaler(CombineDFs(input_matrix, RBFSampler(MaxAbsScaler(SelectFwe(StandardScaler(input_matrix), alpha=0.031)), gamma=0.30000000000000004))), n_neighbors=99, p=2, weights=uniform)\n"
     ]
    },
    {
     "data": {
      "text/plain": [
       "TPOTClassifier(config_dict='TPOT light', crossover_rate=0.1, cv=5,\n",
       "               disable_update_check=False, early_stop=None, generations=100,\n",
       "               max_eval_time_mins=5, max_time_mins=None, memory=None,\n",
       "               mutation_rate=0.9, n_jobs=-1, offspring_size=None,\n",
       "               periodic_checkpoint_folder=None, population_size=100,\n",
       "               random_state=None, scoring=None, subsample=1.0, template=None,\n",
       "               use_dask=False, verbosity=2, warm_start=False)"
      ]
     },
     "execution_count": 2,
     "metadata": {},
     "output_type": "execute_result"
    }
   ],
   "source": [
    "# Use AutoML\n",
    "from tpot import TPOTClassifier\n",
    "\n",
    "model = TPOTClassifier(verbosity=2, n_jobs=-1, config_dict='TPOT light')\n",
    "model.fit(X_train, y_train)"
   ]
  },
  {
   "cell_type": "code",
   "execution_count": 3,
   "metadata": {},
   "outputs": [
    {
     "name": "stderr",
     "output_type": "stream",
     "text": [
      "C:\\ProgramData\\Anaconda3\\lib\\site-packages\\sklearn\\preprocessing\\_function_transformer.py:97: FutureWarning: The default validate=True will be replaced by validate=False in 0.22.\n",
      "  \"validate=False in 0.22.\", FutureWarning)\n"
     ]
    },
    {
     "name": "stdout",
     "output_type": "stream",
     "text": [
      "Score 0.7988748241912799\n",
      "\n"
     ]
    },
    {
     "name": "stderr",
     "output_type": "stream",
     "text": [
      "C:\\ProgramData\\Anaconda3\\lib\\site-packages\\sklearn\\preprocessing\\_function_transformer.py:97: FutureWarning: The default validate=True will be replaced by validate=False in 0.22.\n",
      "  \"validate=False in 0.22.\", FutureWarning)\n"
     ]
    },
    {
     "name": "stdout",
     "output_type": "stream",
     "text": [
      "Period 1 Results:\n",
      "Actual Capital: $10607.77\n",
      "Actual Returns Monthly: 6.08%\n",
      "Model Capital: $10100.0\n",
      "Model Returns Monthly: 1.0%\n",
      "\n"
     ]
    },
    {
     "name": "stderr",
     "output_type": "stream",
     "text": [
      "C:\\ProgramData\\Anaconda3\\lib\\site-packages\\sklearn\\preprocessing\\_function_transformer.py:97: FutureWarning: The default validate=True will be replaced by validate=False in 0.22.\n",
      "  \"validate=False in 0.22.\", FutureWarning)\n"
     ]
    },
    {
     "name": "stdout",
     "output_type": "stream",
     "text": [
      "Period 2 Results:\n",
      "Actual Capital: $10293.74\n",
      "Actual Returns Monthly: 2.94%\n",
      "Model Capital: $10614.16\n",
      "Model Returns Monthly: 6.14%\n",
      "\n"
     ]
    },
    {
     "name": "stderr",
     "output_type": "stream",
     "text": [
      "C:\\ProgramData\\Anaconda3\\lib\\site-packages\\sklearn\\preprocessing\\_function_transformer.py:97: FutureWarning: The default validate=True will be replaced by validate=False in 0.22.\n",
      "  \"validate=False in 0.22.\", FutureWarning)\n"
     ]
    },
    {
     "name": "stdout",
     "output_type": "stream",
     "text": [
      "Period 3 Results:\n",
      "Actual Capital: $10193.88\n",
      "Actual Returns Monthly: 1.94%\n",
      "Model Capital: $10201.0\n",
      "Model Returns Monthly: 2.01%\n",
      "\n"
     ]
    },
    {
     "name": "stderr",
     "output_type": "stream",
     "text": [
      "C:\\ProgramData\\Anaconda3\\lib\\site-packages\\sklearn\\preprocessing\\_function_transformer.py:97: FutureWarning: The default validate=True will be replaced by validate=False in 0.22.\n",
      "  \"validate=False in 0.22.\", FutureWarning)\n"
     ]
    },
    {
     "name": "stdout",
     "output_type": "stream",
     "text": [
      "Period 4 Results:\n",
      "Actual Capital: $10194.88\n",
      "Actual Returns Monthly: 1.95%\n",
      "Model Capital: $10201.0\n",
      "Model Returns Monthly: 2.01%\n",
      "\n"
     ]
    },
    {
     "name": "stderr",
     "output_type": "stream",
     "text": [
      "C:\\ProgramData\\Anaconda3\\lib\\site-packages\\sklearn\\preprocessing\\_function_transformer.py:97: FutureWarning: The default validate=True will be replaced by validate=False in 0.22.\n",
      "  \"validate=False in 0.22.\", FutureWarning)\n"
     ]
    },
    {
     "name": "stdout",
     "output_type": "stream",
     "text": [
      "Period 5 Results:\n",
      "Actual Capital: $9698.16\n",
      "Actual Returns Monthly: -3.02%\n",
      "Model Capital: $10100.0\n",
      "Model Returns Monthly: 1.0%\n",
      "\n"
     ]
    }
   ],
   "source": [
    "print('Score', model.score(X_test, y_test))\n",
    "print('')\n",
    "\n",
    "# Calculate Profit Return\n",
    "def print_profit_return(model, random_period, period):\n",
    "    X_random_period, y_random_period = get_x_and_y(random_period) \n",
    "    predictions = model.predict(X_random_period)\n",
    "    capital_initial = 10000\n",
    "    capital_actual = capital_initial \n",
    "    capital_model = capital_initial\n",
    "    for index, prediction in enumerate(predictions):\n",
    "        percent_change = random_period.iloc[index]['Y_Index_GSPC']\n",
    "        capital_actual += capital_actual * percent_change  \n",
    "        if(prediction == 1):\n",
    "            capital_model += capital_model * percent_change\n",
    "    \n",
    "    thirty_day_return_actual = round(((capital_actual/capital_initial) - 1) * 100, 2)\n",
    "    thirty_day_return_model = round(((capital_model/capital_initial) - 1) * 100, 2)\n",
    "    \n",
    "    print(period, 'Results:')\n",
    "    print('Actual Capital: $' + str(round(capital_actual, 2)))\n",
    "    print('Actual Returns Monthly: ' + str(thirty_day_return_actual) + '%')\n",
    "    print('Model Capital: $' + str(round(capital_model, 2)))\n",
    "    print('Model Returns Monthly: ' + str(thirty_day_return_model) + '%')\n",
    "    print('')\n",
    "\n",
    "print_profit_return(model, random_period_1, 'Period 1')\n",
    "print_profit_return(model, random_period_2, 'Period 2')\n",
    "print_profit_return(model, random_period_3, 'Period 3')\n",
    "print_profit_return(model, random_period_4, 'Period 4')\n",
    "print_profit_return(model, random_period_5, 'Period 5')\n"
   ]
  },
  {
   "cell_type": "code",
   "execution_count": null,
   "metadata": {},
   "outputs": [],
   "source": []
  }
 ],
 "metadata": {
  "kernelspec": {
   "display_name": "Python 3",
   "language": "python",
   "name": "python3"
  },
  "language_info": {
   "codemirror_mode": {
    "name": "ipython",
    "version": 3
   },
   "file_extension": ".py",
   "mimetype": "text/x-python",
   "name": "python",
   "nbconvert_exporter": "python",
   "pygments_lexer": "ipython3",
   "version": "3.7.3"
  }
 },
 "nbformat": 4,
 "nbformat_minor": 2
}
