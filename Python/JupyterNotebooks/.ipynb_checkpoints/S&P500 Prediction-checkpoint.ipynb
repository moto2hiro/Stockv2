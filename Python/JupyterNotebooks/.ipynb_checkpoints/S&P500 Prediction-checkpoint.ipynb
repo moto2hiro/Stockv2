{
 "cells": [
  {
   "cell_type": "code",
   "execution_count": null,
   "metadata": {},
   "outputs": [],
   "source": [
    "# Based on \"Stock Market Forecasting Using Machine Learning Algorithms\"\n",
    "# by Shunrong Shen, Haomiao Jiang, Tongda Zhang\n",
    "# https://pdfs.semanticscholar.org/b68e/8d2f4d2c709bb5919b82effcb6a7bbd3db37.pdf\n",
    "# Data from yahoo.com, macrotrends.net, investing.com (2001-01-01 to 2020-01-24)\n",
    "\n",
    "# Get Data from SQL Server\n",
    "import pandas as pd\n",
    "import numpy as np\n",
    "import pyodbc \n",
    "import matplotlib.pyplot as plt\n",
    "import sklearn.decomposition\n",
    "import random\n",
    "from sklearn.model_selection import train_test_split\n",
    "\n",
    "NUM_DAYS = 30\n",
    "\n",
    "connection = pyodbc.connect(\"Driver={SQL Server Native Client 11.0};\"\n",
    "                      \"Server=DESKTOP-2JHG1EA\\\\SQLEXPRESS;\"\n",
    "                      \"Database=Sandbox;\"\n",
    "                      \"Trusted_Connection=yes;\")\n",
    "df = pd.read_sql(\n",
    "    'SELECT * FROM [Sandbox].[dbo].[PredictionDataSetSp500] ORDER BY [FeatureDate]', \n",
    "    connection)\n",
    "\n",
    "# Save some random periods of data for profit return % calculation\n",
    "def get_random_period(df):\n",
    "    row_count = df.shape[0]\n",
    "    random_index = random.randint(1, row_count - NUM_DAYS)\n",
    "    random_period = df[random_index: random_index + NUM_DAYS] \n",
    "    before_period = df[0:random_index - 1]\n",
    "    after_period = df[random_index + 1 + NUM_DAYS:row_count]\n",
    "    df = before_period.append(after_period, ignore_index=True)\n",
    "    return df, random_period\n",
    "\n",
    "df, random_period_1 = get_random_period(df)\n",
    "df, random_period_2 = get_random_period(df)\n",
    "df, random_period_3 = get_random_period(df)\n",
    "df, random_period_4 = get_random_period(df)\n",
    "df, random_period_5 = get_random_period(df)\n",
    "\n",
    "# Split data\n",
    "def get_x_and_y(df):\n",
    "    y = df[['Y_Index_GSPC']]\n",
    "    y = np.where(df['Y_Index_GSPC'] > 0, 1, 0)\n",
    "    X = df[['X_Index_SSMI', 'X_Index_N225', 'X_Index_AXJO', 'X_Index_HSI', 'X_Index_N100', 'X_Index_FTSE', 'X_Index_GDAXI']]\n",
    "    return X, y\n",
    "    \n",
    "X, y = get_x_and_y(df)\n",
    "X_train, X_test, y_train, y_test = train_test_split(X, y, test_size=0.2, random_state=42)"
   ]
  },
  {
   "cell_type": "code",
   "execution_count": null,
   "metadata": {},
   "outputs": [],
   "source": [
    "# Use AutoML\n",
    "from tpot import TPOTClassifier\n",
    "\n",
    "model = TPOTClassifier(verbosity=2, n_jobs=-1, config_dict='TPOT light')\n",
    "model.fit(X_train, y_train)"
   ]
  },
  {
   "cell_type": "code",
   "execution_count": null,
   "metadata": {},
   "outputs": [],
   "source": [
    "print('Score', model.score(X_test, y_test))\n",
    "print('')\n",
    "\n",
    "# Calculate Profit Return\n",
    "def print_profit_return(model, random_period, period):\n",
    "    X_random_period, y_random_period = get_x_and_y(random_period) \n",
    "    predictions = model.predict(X_random_period)\n",
    "    capital_initial = 10000\n",
    "    capital_actual = capital_initial \n",
    "    capital_model = capital_initial\n",
    "    for index, prediction in enumerate(predictions):\n",
    "        percent_change = random_period.iloc[index]['Y_Index_GSPC']\n",
    "        capital_actual += capital_actual * percent_change  \n",
    "        if(prediction == 1):\n",
    "            capital_model += capital_model * percent_change\n",
    "    \n",
    "    model_thirty_day_return = round(((capital_model/capital_initial) - 1) * 100, 2)\n",
    "    print(period, 'Results:')\n",
    "    print('Actual Capital: $' + str(round(capital, 2)))\n",
    "    print('Actual Returns Monthly: ' + str(thirty_day_return) + '%')\n",
    "    print('Model Capital: $' + str(round(capital, 2)))\n",
    "    print('Model Returns Monthly: ' + str(model_thirty_day_return) + '%')\n",
    "    print('')\n",
    "\n",
    "print_profit_return(model, random_period_1, 'Period 1')\n",
    "print_profit_return(model, random_period_2, 'Period 2')\n",
    "print_profit_return(model, random_period_3, 'Period 3')\n",
    "print_profit_return(model, random_period_4, 'Period 4')\n",
    "print_profit_return(model, random_period_5, 'Period 5')\n"
   ]
  },
  {
   "cell_type": "code",
   "execution_count": null,
   "metadata": {},
   "outputs": [],
   "source": []
  }
 ],
 "metadata": {
  "kernelspec": {
   "display_name": "Python 3",
   "language": "python",
   "name": "python3"
  },
  "language_info": {
   "codemirror_mode": {
    "name": "ipython",
    "version": 3
   },
   "file_extension": ".py",
   "mimetype": "text/x-python",
   "name": "python",
   "nbconvert_exporter": "python",
   "pygments_lexer": "ipython3",
   "version": "3.7.3"
  }
 },
 "nbformat": 4,
 "nbformat_minor": 2
}
