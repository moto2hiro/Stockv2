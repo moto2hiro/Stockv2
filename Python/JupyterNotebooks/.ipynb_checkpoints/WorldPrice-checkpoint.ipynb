{
 "cells": [
  {
   "cell_type": "code",
   "execution_count": null,
   "metadata": {},
   "outputs": [],
   "source": [
    "# Based on \"Stock Market Forecasting Using Machine Learning Algorithms\"\n",
    "# by Shunrong Shen, Haomiao Jiang, Tongda Zhang\n",
    "# https://pdfs.semanticscholar.org/b68e/8d2f4d2c709bb5919b82effcb6a7bbd3db37.\n",
    "# Data from yahoo.com and investing.com\n",
    "# !pip install TPOT\n",
    "\n",
    "# ===== 0 Utils and Consts\n",
    "import time\n",
    "import csv\n",
    "import pandas as pd\n",
    "import numpy as np\n",
    "from sklearn.model_selection import train_test_split\n",
    "from tpot import TPOTClassifier\n",
    "\n",
    "# =====\n",
    "\n",
    "PATH_ROOT = r'C:/Users/Motohiro/Downloads/'\n",
    "PATH_FILE = PATH_ROOT + 'world_SPY_a.csv'\n",
    "PATH_EXPORT = PATH_ROOT + 'model_world_SPY_a_v3.py'\n",
    "\n",
    "# =====\n",
    "\n",
    "# Utils\n",
    "start_time = time.time()\n",
    "def watch_restart():\n",
    "    global start_time\n",
    "    start_time = time.time()\n",
    "def watch_print(title):\n",
    "    global start_time\n",
    "    print(title,round(time.time() - start_time, 4), 'seconds')"
   ]
  },
  {
   "cell_type": "code",
   "execution_count": null,
   "metadata": {},
   "outputs": [],
   "source": [
    "watch_restart()\n",
    "\n",
    "# ===== 1.0 Get Data from CSV\n",
    "df = pd.read_csv(PATH_FILE)\n",
    "print(df.columns)\n",
    "\n",
    "watch_print('Get Data')"
   ]
  },
  {
   "cell_type": "code",
   "execution_count": null,
   "metadata": {},
   "outputs": [],
   "source": [
    "# Split data\n",
    "def get_x_and_y(df):\n",
    "  y = np.where(df['YSpydiffActual'] > 0, 1, 0)\n",
    "  X = df[['XFtsediffNorm',\n",
    "          'XStoxxdiffNorm',\n",
    "          'XGdaxidiffNorm',\n",
    "          'XSsmidiffNorm',\n",
    "          'XN225diffNorm', \n",
    "          'XAxjodiffNorm', \n",
    "          'XHsidiffNorm']]\n",
    "          # 'XSensexdiffNorm']] \n",
    "  return X, y\n",
    "\n",
    "X, y = get_x_and_y(df)\n",
    "X_train, X_test, y_train, y_test = train_test_split(X, y, test_size=0.2, random_state=42)\n",
    "\n",
    "print('X', X.head())\n",
    "print('y', y)\n",
    "print('X_train shape', X_train.shape)\n",
    "print('X_test shape', X_test.shape)\n",
    "print('y_train shape', y_train.shape)\n",
    "print('y_test shape', y_test.shape)"
   ]
  },
  {
   "cell_type": "code",
   "execution_count": null,
   "metadata": {},
   "outputs": [],
   "source": [
    "model = TPOTClassifier(\n",
    "    generations=10000,\n",
    "    verbosity=2,\n",
    "    n_jobs=-1, \n",
    "    config_dict='TPOT light')\n",
    "model.fit(X_train, y_train)\n",
    "print('Score', model.score(X_test, y_test))"
   ]
  },
  {
   "cell_type": "code",
   "execution_count": null,
   "metadata": {},
   "outputs": [],
   "source": [
    "model.export(PATH_EXPORT)"
   ]
  },
  {
   "cell_type": "code",
   "execution_count": null,
   "metadata": {},
   "outputs": [],
   "source": []
  }
 ],
 "metadata": {
  "kernelspec": {
   "display_name": "Python 3",
   "language": "python",
   "name": "python3"
  },
  "language_info": {
   "codemirror_mode": {
    "name": "ipython",
    "version": 3
   },
   "file_extension": ".py",
   "mimetype": "text/x-python",
   "name": "python",
   "nbconvert_exporter": "python",
   "pygments_lexer": "ipython3",
   "version": "3.7.6"
  }
 },
 "nbformat": 4,
 "nbformat_minor": 4
}
