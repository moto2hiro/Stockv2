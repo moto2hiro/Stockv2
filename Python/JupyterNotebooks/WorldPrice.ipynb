{
 "cells": [
  {
   "cell_type": "code",
   "execution_count": 1,
   "metadata": {},
   "outputs": [],
   "source": [
    "# Based on \"Stock Market Forecasting Using Machine Learning Algorithms\"\n",
    "# by Shunrong Shen, Haomiao Jiang, Tongda Zhang\n",
    "# https://pdfs.semanticscholar.org/b68e/8d2f4d2c709bb5919b82effcb6a7bbd3db37.\n",
    "# Data from yahoo.com and investing.com\n",
    "# !pip install TPOT\n",
    "\n",
    "# ===== 0 Utils and Consts\n",
    "import time\n",
    "import csv\n",
    "import pandas as pd\n",
    "import numpy as np\n",
    "from sklearn.model_selection import train_test_split\n",
    "from tpot import TPOTClassifier\n",
    "\n",
    "# =====\n",
    "\n",
    "PATH_ROOT = r'C:/Users/Motohiro/Downloads/'\n",
    "PATH_FILE = PATH_ROOT + 'world_SPY_a.csv'\n",
    "PATH_EXPORT = PATH_ROOT + 'model_world_SPY_a_v2.py'\n",
    "\n",
    "# =====\n",
    "\n",
    "# Utils\n",
    "start_time = time.time()\n",
    "def watch_restart():\n",
    "    global start_time\n",
    "    start_time = time.time()\n",
    "def watch_print(title):\n",
    "    global start_time\n",
    "    print(title,round(time.time() - start_time, 4), 'seconds')"
   ]
  },
  {
   "cell_type": "code",
   "execution_count": 2,
   "metadata": {},
   "outputs": [
    {
     "name": "stdout",
     "output_type": "stream",
     "text": [
      "Index(['Id', 'PriceDate', 'YGspcdiffNorm', 'YGspcdiffActual', 'YGspcactual',\n",
      "       'YGspcpredicted', 'YGspcpredictedProb', 'YSpydiffNorm',\n",
      "       'YSpydiffActual', 'YSpyactual', 'YSpypredicted', 'YSpypredictedProb',\n",
      "       'YDjidiffNorm', 'YDjidiffActual', 'YDjiactual', 'YDjipredicted',\n",
      "       'YDjipredictedProb', 'YDiadiffNorm', 'YDiadiffActual', 'YDiaactual',\n",
      "       'YDiapredicted', 'YDiapredictedProb', 'XFtsediffNorm', 'XStoxxdiffNorm',\n",
      "       'XGdaxidiffNorm', 'XSsmidiffNorm', 'XN225diffNorm', 'XAxjodiffNorm',\n",
      "       'XHsidiffNorm', 'XSsecdiffNorm', 'XBsesndiffNorm', 'XNiftydiffNorm',\n",
      "       'XKs11diffNorm', 'XTwiidiffNorm'],\n",
      "      dtype='object')\n",
      "Get Data 0.0159 seconds\n"
     ]
    }
   ],
   "source": [
    "watch_restart()\n",
    "\n",
    "# ===== 1.0 Get Data from CSV\n",
    "df = pd.read_csv(PATH_FILE)\n",
    "print(df.columns)\n",
    "\n",
    "watch_print('Get Data')"
   ]
  },
  {
   "cell_type": "code",
   "execution_count": 3,
   "metadata": {},
   "outputs": [
    {
     "name": "stdout",
     "output_type": "stream",
     "text": [
      "X    XFtsediffNorm  XStoxxdiffNorm  XGdaxidiffNorm  XN225diffNorm  \\\n",
      "0        -0.0046         -0.0078         -0.0089            0.0   \n",
      "1         0.0041          0.0089          0.0074            0.0   \n",
      "2        -0.0015         -0.0022         -0.0019            0.0   \n",
      "3        -0.0020         -0.0036         -0.0038            0.0   \n",
      "4         0.0000          0.0033          0.0026            0.0   \n",
      "\n",
      "   XAxjodiffNorm  XHsidiffNorm  XBsesndiffNorm  \n",
      "0            0.0           0.0             0.0  \n",
      "1            0.0           0.0             0.0  \n",
      "2            0.0           0.0             0.0  \n",
      "3            0.0           0.0             0.0  \n",
      "4            0.0           0.0             0.0  \n",
      "y [1 0 1 ... 1 0 1]\n",
      "X_train shape (835, 7)\n",
      "X_test shape (209, 7)\n",
      "y_train shape (835,)\n",
      "y_test shape (209,)\n"
     ]
    }
   ],
   "source": [
    "# Split data\n",
    "def get_x_and_y(df):\n",
    "  y = np.where(df['YSpydiffActual'] > 0, 1, 0)\n",
    "  X = df[['XFtsediffNorm',\n",
    "          'XStoxxdiffNorm',\n",
    "          'XGdaxidiffNorm',\n",
    "          #'XSsmidiffNorm',\n",
    "          'XN225diffNorm', \n",
    "          'XAxjodiffNorm', \n",
    "          'XHsidiffNorm', \n",
    "          # 'XSsecdiffNorm',\n",
    "          'XBsesndiffNorm']] \n",
    "          # 'XNiftydiffNorm', \n",
    "          # 'XKs11diffNorm',\n",
    "          # 'XTwiidiffNorm']]\n",
    "  return X, y\n",
    "\n",
    "X, y = get_x_and_y(df)\n",
    "X_train, X_test, y_train, y_test = train_test_split(X, y, test_size=0.2, random_state=42)\n",
    "\n",
    "print('X', X.head())\n",
    "print('y', y)\n",
    "print('X_train shape', X_train.shape)\n",
    "print('X_test shape', X_test.shape)\n",
    "print('y_train shape', y_train.shape)\n",
    "print('y_test shape', y_test.shape)"
   ]
  },
  {
   "cell_type": "code",
   "execution_count": 4,
   "metadata": {},
   "outputs": [
    {
     "data": {
      "application/vnd.jupyter.widget-view+json": {
       "model_id": "d7f3ebaacd6e4357a4889c17fc3f75cd",
       "version_major": 2,
       "version_minor": 0
      },
      "text/plain": [
       "HBox(children=(FloatProgress(value=0.0, description='Optimization Progress', max=1000100.0, style=ProgressStyl…"
      ]
     },
     "metadata": {},
     "output_type": "display_data"
    },
    {
     "name": "stdout",
     "output_type": "stream",
     "text": [
      "Generation 1 - Current best internal CV score: 0.7413173652694611\n",
      "Generation 2 - Current best internal CV score: 0.7413173652694611\n",
      "Generation 3 - Current best internal CV score: 0.7413173652694611\n",
      "Generation 4 - Current best internal CV score: 0.7449101796407186\n",
      "Generation 5 - Current best internal CV score: 0.7461077844311378\n",
      "Generation 6 - Current best internal CV score: 0.7461077844311378\n",
      "Generation 7 - Current best internal CV score: 0.7461077844311378\n",
      "Generation 8 - Current best internal CV score: 0.7461077844311378\n",
      "Generation 9 - Current best internal CV score: 0.7461077844311378\n",
      "Generation 10 - Current best internal CV score: 0.7461077844311378\n",
      "Generation 11 - Current best internal CV score: 0.7461077844311378\n",
      "Generation 12 - Current best internal CV score: 0.7461077844311378\n",
      "Generation 13 - Current best internal CV score: 0.7461077844311378\n",
      "Generation 14 - Current best internal CV score: 0.7461077844311378\n",
      "Generation 15 - Current best internal CV score: 0.7461077844311378\n",
      "Generation 16 - Current best internal CV score: 0.7473053892215569\n",
      "Generation 17 - Current best internal CV score: 0.7473053892215569\n",
      "Generation 18 - Current best internal CV score: 0.7508982035928145\n",
      "Generation 19 - Current best internal CV score: 0.7508982035928145\n",
      "Generation 20 - Current best internal CV score: 0.7508982035928145\n",
      "Generation 21 - Current best internal CV score: 0.7508982035928145\n",
      "Generation 22 - Current best internal CV score: 0.7508982035928145\n",
      "Generation 23 - Current best internal CV score: 0.7508982035928145\n",
      "Generation 24 - Current best internal CV score: 0.7508982035928145\n",
      "Generation 25 - Current best internal CV score: 0.7508982035928145\n",
      "Generation 26 - Current best internal CV score: 0.7508982035928145\n",
      "Generation 27 - Current best internal CV score: 0.7508982035928145\n",
      "Generation 28 - Current best internal CV score: 0.7508982035928145\n",
      "Generation 29 - Current best internal CV score: 0.7508982035928145\n",
      "Generation 30 - Current best internal CV score: 0.7508982035928145\n",
      "Generation 31 - Current best internal CV score: 0.7508982035928145\n",
      "Generation 32 - Current best internal CV score: 0.7508982035928145\n",
      "Generation 33 - Current best internal CV score: 0.7508982035928145\n",
      "Generation 34 - Current best internal CV score: 0.7508982035928145\n",
      "Generation 35 - Current best internal CV score: 0.7508982035928145\n",
      "Generation 36 - Current best internal CV score: 0.7508982035928145\n",
      "Generation 37 - Current best internal CV score: 0.7508982035928145\n",
      "Generation 38 - Current best internal CV score: 0.7508982035928145\n",
      "Generation 39 - Current best internal CV score: 0.7508982035928145\n",
      "Generation 40 - Current best internal CV score: 0.7508982035928145\n",
      "Generation 41 - Current best internal CV score: 0.7508982035928145\n",
      "Generation 42 - Current best internal CV score: 0.7508982035928145\n",
      "Generation 43 - Current best internal CV score: 0.7508982035928145\n",
      "Generation 44 - Current best internal CV score: 0.7508982035928145\n",
      "Generation 45 - Current best internal CV score: 0.7508982035928145\n",
      "Generation 46 - Current best internal CV score: 0.7508982035928145\n",
      "Generation 47 - Current best internal CV score: 0.7508982035928145\n",
      "Generation 48 - Current best internal CV score: 0.7508982035928145\n",
      "Generation 49 - Current best internal CV score: 0.7508982035928145\n",
      "Generation 50 - Current best internal CV score: 0.7508982035928145\n",
      "Generation 51 - Current best internal CV score: 0.7508982035928145\n",
      "Generation 52 - Current best internal CV score: 0.7508982035928145\n",
      "Generation 53 - Current best internal CV score: 0.7508982035928145\n",
      "Generation 54 - Current best internal CV score: 0.7508982035928145\n",
      "Generation 55 - Current best internal CV score: 0.7508982035928145\n",
      "Generation 56 - Current best internal CV score: 0.7508982035928145\n",
      "\n",
      "\n",
      "TPOT closed during evaluation in one generation.\n",
      "WARNING: TPOT may not provide a good pipeline if TPOT is stopped/interrupted in a early generation.\n",
      "\n",
      "\n",
      "TPOT closed prematurely. Will use the current best pipeline.\n",
      "\n",
      "Best pipeline: KNeighborsClassifier(Normalizer(LogisticRegression(input_matrix, C=0.01, dual=False, penalty=l2), norm=l1), n_neighbors=96, p=2, weights=distance)\n",
      "Score 0.7177033492822966\n"
     ]
    }
   ],
   "source": [
    "model = TPOTClassifier(\n",
    "    generations=10000,\n",
    "    verbosity=2,\n",
    "    n_jobs=-1, \n",
    "    config_dict='TPOT light')\n",
    "model.fit(X_train, y_train)\n",
    "print('Score', model.score(X_test, y_test))"
   ]
  },
  {
   "cell_type": "code",
   "execution_count": 5,
   "metadata": {},
   "outputs": [],
   "source": [
    "model.export(PATH_EXPORT)"
   ]
  },
  {
   "cell_type": "code",
   "execution_count": null,
   "metadata": {},
   "outputs": [],
   "source": []
  }
 ],
 "metadata": {
  "kernelspec": {
   "display_name": "Python 3",
   "language": "python",
   "name": "python3"
  },
  "language_info": {
   "codemirror_mode": {
    "name": "ipython",
    "version": 3
   },
   "file_extension": ".py",
   "mimetype": "text/x-python",
   "name": "python",
   "nbconvert_exporter": "python",
   "pygments_lexer": "ipython3",
   "version": "3.7.6"
  }
 },
 "nbformat": 4,
 "nbformat_minor": 4
}
