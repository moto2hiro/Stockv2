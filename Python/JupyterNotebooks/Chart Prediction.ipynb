{
 "cells": [
  {
   "cell_type": "code",
   "execution_count": 1,
   "metadata": {},
   "outputs": [
    {
     "name": "stdout",
     "output_type": "stream",
     "text": [
      "   Id  Y_Prediction                                            X_Image\n",
      "0   1             1  iVBORw0KGgoAAAANSUhEUgAAAOAAAADgCAYAAAAaLWrhAA...\n",
      "1   2             1  iVBORw0KGgoAAAANSUhEUgAAAOAAAADgCAYAAAAaLWrhAA...\n",
      "2   3             0  iVBORw0KGgoAAAANSUhEUgAAAOAAAADgCAYAAAAaLWrhAA...\n",
      "3   4             1  iVBORw0KGgoAAAANSUhEUgAAAOAAAADgCAYAAAAaLWrhAA...\n",
      "4   5             1  iVBORw0KGgoAAAANSUhEUgAAAOAAAADgCAYAAAAaLWrhAA...\n"
     ]
    }
   ],
   "source": [
    "# Get Data from SQL Server\n",
    "import time\n",
    "import pandas as pd\n",
    "import numpy as np\n",
    "import pyodbc \n",
    "import psutil\n",
    "import matplotlib.pyplot as plt\n",
    "\n",
    "# Utils\n",
    "start_time = time.time()\n",
    "def watch_restart():\n",
    "    global start_time\n",
    "    start_time = time.time()\n",
    "def watch_print(title):\n",
    "    global start_time\n",
    "    print(title, (time.time() - start_time), 'seconds')\n",
    "def memory_print():\n",
    "    memory = dict(psutil.virtual_memory()._asdict())\n",
    "    print(\"Memory Capacity\", memory['total'] >> 30, \"GB\")\n",
    "    print(\"Memory Left\", memory['free'] >> 30, \"GB\")\n",
    "    print(\"Memory Used\", memory['used'] >> 30, \"GB\")\n",
    "    print(\"Memory Used:\", memory['percent'], \"percent\")\n",
    "\n",
    "connection = pyodbc.connect(\"Driver={SQL Server Native Client 11.0};\"\n",
    "                      \"Server=DESKTOP-2JHG1EA\\\\SQLEXPRESS;\"\n",
    "                      \"Database=Sandbox;\"\n",
    "                      \"Trusted_Connection=yes;\")\n",
    "df = pd.read_sql(\n",
    "    'SELECT * FROM [Sandbox].[dbo].[PredictionDataSetCharts]', \n",
    "    connection)\n",
    "\n",
    "print(df.head())"
   ]
  },
  {
   "cell_type": "code",
   "execution_count": null,
   "metadata": {},
   "outputs": [],
   "source": [
    "watch_restart()\n",
    "\n",
    "# ===== Prepare Data\n",
    "import cv2\n",
    "import base64\n",
    "from sklearn.model_selection import train_test_split\n",
    "\n",
    "# Set up X and y\n",
    "items = []\n",
    "for index, row in df.iterrows():\n",
    "    item_byte_array = base64.b64decode(df['X_Image'][index])\n",
    "    item_np = np.frombuffer(item_byte_array, dtype=np.uint8)\n",
    "    item_image = cv2.imdecode(item_np, flags=1)\n",
    "    items.append(item_image)\n",
    "    # if index < 1:\n",
    "        # plt.imshow(cv2.cvtColor(item_image, cv2.COLOR_BGR2RGB)); \n",
    "        # plt.show()\n",
    "X = np.array(items)\n"
   ]
  },
  {
   "cell_type": "code",
   "execution_count": 12,
   "metadata": {},
   "outputs": [
    {
     "name": "stdout",
     "output_type": "stream",
     "text": [
      "[[1]\n",
      " [1]\n",
      " [0]\n",
      " ...\n",
      " [1]\n",
      " [1]\n",
      " [1]]\n",
      "(11964, 1)\n"
     ]
    }
   ],
   "source": [
    "y = np.matrix(df[['Y_Prediction']])\n",
    "print(y)\n",
    "print(y.shape)"
   ]
  },
  {
   "cell_type": "code",
   "execution_count": null,
   "metadata": {},
   "outputs": [],
   "source": []
  }
 ],
 "metadata": {
  "kernelspec": {
   "display_name": "Python 3",
   "language": "python",
   "name": "python3"
  },
  "language_info": {
   "codemirror_mode": {
    "name": "ipython",
    "version": 3
   },
   "file_extension": ".py",
   "mimetype": "text/x-python",
   "name": "python",
   "nbconvert_exporter": "python",
   "pygments_lexer": "ipython3",
   "version": "3.7.3"
  }
 },
 "nbformat": 4,
 "nbformat_minor": 2
}
